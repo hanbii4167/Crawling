{
 "cells": [
  {
   "cell_type": "markdown",
   "id": "b59809d0-a55b-4976-8794-369cec9b77ba",
   "metadata": {},
   "source": [
    "# 1. Git\n",
    "* 버전관리 시스템의 종류\n",
    "* 버전관리 : 여러 파일을 하나의 버전으로 묶어 관리하는 것 "
   ]
  },
  {
   "cell_type": "markdown",
   "id": "5179022a-53b6-457c-a76a-f9d7423b5e77",
   "metadata": {},
   "source": [
    "### 1-1.버전관리 시스템의 종류\n",
    "1. 클라이언트 - 서버 모델: 하나의 중앙 서버로 여러 클라이언트들이 각자 필요한 것만 가져와서 작업을 하고 다시 중앙 서버로 보내서 통합하는 방식( SVN, CVS )\n",
    "2. 분산 모델: 하나의 중앙 서버가 존재하지만, 여러 클라이언트들은 각자의 컴퓨터에 저장소에 전체사본을 가지고 작업하는 방식(Git)"
   ]
  },
  {
   "cell_type": "markdown",
   "id": "8f27e357-3be6-456e-91e1-7a879829d991",
   "metadata": {},
   "source": [
    "### 1-2. Git의 장점\n",
    "* 동시에 작업하는 사람들과 소스코드를 주고받을 필요가 없음\n",
    "* 같은 파일을 여러명이 동사에 병렬 개발이 가능\n",
    "* 변동 과정을 체계적으로 관리할 수 있고, 언제든지 지난 시점의 버전으로 되돌릴 수 있음\n",
    "* 인터넷이 연결되지 않은 곳에서도 개발을 진행할 수 있고, 중앙 서버의 데이터가 유실되어도 다시 복구할 수 있음 "
   ]
  },
  {
   "cell_type": "markdown",
   "id": "5754bab1-8155-4225-a669-0854373327e0",
   "metadata": {},
   "source": [
    "### 1-2.Git 설치\n",
    "1. 구글에서 'git 설치' 검색\n",
    "2. 왼쪽 메뉴에서, downloads를 클릭 (https://git-scm.com/downloads)\n",
    "3. 모니터 이미지에 있는 다운로드 버튼을 클릭 \n",
    "4. Choose one of the following options for installing Git on macOS: 설명에 따라 설치 (기본 설정)\n",
    "5. 설치가 끝난 후 git --version 명령으로 버전을 확인"
   ]
  },
  {
   "cell_type": "markdown",
   "id": "dd83d8dd-cf62-4bb2-97ef-3728c9fb6e93",
   "metadata": {},
   "source": [
    "# **2. Git 명령어**"
   ]
  },
  {
   "cell_type": "markdown",
   "id": "d43933d8-4cab-44c7-b6fb-9924d3c779e8",
   "metadata": {},
   "source": [
    "*** 2-1. 프로젝트 디렉토리 내 '로컬 저장소'를 생성하기\n",
    "- 원하는 프로젝트 위치로 이동 후 'git init'를 실행"
   ]
  },
  {
   "cell_type": "code",
   "execution_count": 46,
   "id": "c92d3277-42be-4626-80e1-fd4410c25a76",
   "metadata": {},
   "outputs": [
    {
     "name": "stdout",
     "output_type": "stream",
     "text": [
      "Reinitialized existing Git repository in /Users/gyomgyom/Documents/gyeom/Jupyter/.git/\n"
     ]
    }
   ],
   "source": [
    "!git init"
   ]
  },
  {
   "cell_type": "markdown",
   "id": "d1669a09-aa4e-4092-a22b-6bb598796454",
   "metadata": {},
   "source": [
    "### 2-2. 버전을 관리할 파일을 선택(stage에 올림)"
   ]
  },
  {
   "cell_type": "code",
   "execution_count": 47,
   "id": "57914637-976b-4e8e-b9e0-75ab2d35e9e8",
   "metadata": {},
   "outputs": [],
   "source": [
    "!git add Crawling.ipynb \n",
    "# 파일이 너무 많아 폴더 내에 파일 전체를 하려고 한다면 add. 하면된다."
   ]
  },
  {
   "cell_type": "markdown",
   "id": "b688c900-1afe-4979-ae5f-2064cd5b4840",
   "metadata": {},
   "source": [
    "### 2-3. 하나의 버전으로 만들기\n",
    "* 로컬 시스템에서 파일을 생성/수정/삭제한 파일들을 선별하여 버전을 만드는 것\n",
    "* 파일이 변경될 때 변경 사항은 자동으로 저장되지 않음\n",
    "* git에게 새 커밋을 생성하여 변경 사항을 저정하도록 지시"
   ]
  },
  {
   "cell_type": "code",
   "execution_count": 1,
   "id": "2534eb9e-4b0a-4d19-9d7b-a7edefa43683",
   "metadata": {},
   "outputs": [],
   "source": [
    "# 커밋할 고유자가 지정되지 않은 에러가 발생된경우\n",
    "!git config --global user.email \"hanbii4167@gmail.com\"\n",
    "!git config --global user.name \"hanbii4167\""
   ]
  },
  {
   "cell_type": "code",
   "execution_count": 49,
   "id": "327cf9d0-6215-4a0e-ab63-4ca4e23029dc",
   "metadata": {},
   "outputs": [],
   "source": [
    "# 만약 이메일 또한 이름을 잘못 입력한 경우 등록과 동일하게 진행\n"
   ]
  },
  {
   "cell_type": "code",
   "execution_count": 2,
   "id": "5cbdace0-937a-45a7-85b7-0464957cd6a6",
   "metadata": {},
   "outputs": [
    {
     "name": "stdout",
     "output_type": "stream",
     "text": [
      "hanbii4167\n"
     ]
    }
   ],
   "source": [
    "!git config --global user.name"
   ]
  },
  {
   "cell_type": "code",
   "execution_count": 2,
   "id": "9a4ad636-0bea-4224-81ae-b0489f3f56c3",
   "metadata": {},
   "outputs": [
    {
     "name": "stdout",
     "output_type": "stream",
     "text": [
      "Unstaged changes after reset:\n",
      "M\t.DS_Store\n",
      "M\tCrawling.ipynb\n"
     ]
    }
   ],
   "source": [
    "!git reset HEAD^"
   ]
  },
  {
   "cell_type": "code",
   "execution_count": 3,
   "id": "1a3abe00-4360-448a-9150-9ad5c7e19396",
   "metadata": {},
   "outputs": [
    {
     "name": "stdout",
     "output_type": "stream",
     "text": [
      "On branch main\n",
      "Changes not staged for commit:\n",
      "  (use \"git add <file>...\" to update what will be committed)\n",
      "  (use \"git restore <file>...\" to discard changes in working directory)\n",
      "\t\u001b[31mmodified:   .DS_Store\u001b[m\n",
      "\t\u001b[31mmodified:   Crawling.ipynb\u001b[m\n",
      "\n",
      "no changes added to commit (use \"git add\" and/or \"git commit -a\")\n"
     ]
    }
   ],
   "source": [
    "!git commit -m \"첫 커밋\""
   ]
  },
  {
   "cell_type": "markdown",
   "id": "70686927-c8e2-4206-924b-c35ed69e6849",
   "metadata": {},
   "source": [
    "### 2-4. 로그 확인하기"
   ]
  },
  {
   "cell_type": "code",
   "execution_count": 4,
   "id": "3a516fff-fa74-4c0d-b6ff-21d1665eccf8",
   "metadata": {},
   "outputs": [
    {
     "name": "stdout",
     "output_type": "stream",
     "text": [
      "\u001b[33mcommit 5812accd5ec8eebd093a08ab9234e3da9445c83e\u001b[m\u001b[33m (\u001b[m\u001b[1;36mHEAD -> \u001b[m\u001b[1;32mmain\u001b[m\u001b[33m)\u001b[m\n",
      "Author: gyeomgyeom <hanbii4167@gmail.com>\n",
      "Date:   Thu Dec 12 14:45:55 2024 +0900\n",
      "\n",
      "     현재 디렉토리에 있는 모든 변경된 파일을 커밋\n",
      "\n",
      "\u001b[33mcommit 0af484c8f43d96a513aa6d9fb754810c1be23d20\u001b[m\n",
      "Author: Nagyeom <hanbiiii@naver.com>\n",
      "Date:   Thu Dec 12 14:24:52 2024 +0900\n",
      "\n",
      "    첫 커밋\n"
     ]
    }
   ],
   "source": [
    "!git log"
   ]
  },
  {
   "cell_type": "markdown",
   "id": "3566847b-172a-4d74-861b-5b9631bb3739",
   "metadata": {},
   "source": [
    "### 2-5. README.md 만들기\n",
    "* 깃허브에 업로드시 저장소 메인 설명글로 사용되는 파일\n",
    "* 마크다운으로 작성 ( 확장명이 md 여야함. text면 안됨)"
   ]
  },
  {
   "cell_type": "markdown",
   "id": "3eca558a-27f6-4469-9cde-5ee92c8fe6a0",
   "metadata": {},
   "source": [
    "### 2-6. 여러 파일을 함꼐 선택하기\n",
    "* state에 현재 디렉토리에 있는 변화된 모든 파일을 선택"
   ]
  },
  {
   "cell_type": "code",
   "execution_count": 5,
   "id": "7f464105-0d69-47d9-ac04-fd0c84895920",
   "metadata": {},
   "outputs": [],
   "source": [
    "! git add ."
   ]
  },
  {
   "cell_type": "markdown",
   "id": "93c6927f-0319-4219-a4d2-64703389821e",
   "metadata": {},
   "source": [
    "### 2-7. 선택된 여러 파일을 커밋"
   ]
  },
  {
   "cell_type": "code",
   "execution_count": 6,
   "id": "ec63325d-7647-4c07-be47-32f5192a1f78",
   "metadata": {},
   "outputs": [
    {
     "name": "stdout",
     "output_type": "stream",
     "text": [
      "[main 6174396]  현재 디렉토리에 있는 모든 변경된 파일을 커밋\n",
      " 2 files changed, 154 insertions(+), 34 deletions(-)\n"
     ]
    }
   ],
   "source": [
    "!git commit -m \" 현재 디렉토리에 있는 모든 변경된 파일을 커밋\""
   ]
  },
  {
   "cell_type": "markdown",
   "id": "68151a4a-38df-4306-8a78-ae9c82725fe5",
   "metadata": {},
   "source": [
    "# **3. 깃허브(GitHub)**\n",
    "* Git으로 버전 관리한 코드를 업로드 할 수 있는 클라우드 서비스\n",
    "* 단순히 저장만 하는 것이 아니라 다른 유저들과 함께 코드를 공유하고 온라인으로 하나의 프로젝트를 개발할 수 있게 해줌\n",
    "* [공식 사이트](https://github.com/)"
   ]
  },
  {
   "cell_type": "markdown",
   "id": "85e3556a-dd07-449e-89dd-6553c69de5df",
   "metadata": {},
   "source": [
    "### 3-1. 로컬 저장소에서 github 저장소 주소를 설정"
   ]
  },
  {
   "cell_type": "code",
   "execution_count": 1,
   "id": "5a24a456-2a4a-4203-a2c8-f99ee2b218cf",
   "metadata": {},
   "outputs": [],
   "source": [
    "!git branch -M main"
   ]
  },
  {
   "cell_type": "code",
   "execution_count": 2,
   "id": "8488b466-be90-4803-9c08-ef896c8fb591",
   "metadata": {},
   "outputs": [
    {
     "name": "stdout",
     "output_type": "stream",
     "text": [
      "error: remote origin already exists.\n"
     ]
    }
   ],
   "source": [
    "# https://github.com/hanbii4167/Crawling.git\n",
    "!git remote add https://github.com/hanbii4167/Crawling.git"
   ]
  },
  {
   "cell_type": "code",
   "execution_count": 3,
   "id": "d0c3260c-430f-48fc-9649-8ddffd67fcbd",
   "metadata": {},
   "outputs": [
    {
     "name": "stdout",
     "output_type": "stream",
     "text": [
      "origin\thttps://github.com/hanbii4167/Crawling.git (fetch)\n",
      "origin\thttps://github.com/hanbii4167/Crawling.git (push)\n"
     ]
    }
   ],
   "source": [
    "# 확인하기\n",
    "!git remote -v"
   ]
  },
  {
   "cell_type": "code",
   "execution_count": null,
   "id": "3238bf29-6af4-4c32-9e66-593896a3c8fa",
   "metadata": {},
   "outputs": [],
   "source": [
    "# 삭제하기\n",
    "!git remote remove origin"
   ]
  },
  {
   "cell_type": "markdown",
   "id": "bc1fdb94-0d63-4821-826c-6f48fe5c554e",
   "metadata": {},
   "source": [
    "### 3-2. 생성한 커밋(버전들)을 github로 전송하기"
   ]
  },
  {
   "cell_type": "code",
   "execution_count": null,
   "id": "5ac92fe5-4fa2-4cfa-ba65-e632c7f30ace",
   "metadata": {},
   "outputs": [
    {
     "name": "stdout",
     "output_type": "stream",
     "text": [
      "Username for 'https://github.com': "
     ]
    }
   ],
   "source": [
    "# -u: 업스트림, 원격 저장소와 로컬 브랜치가 추적하는 브랜치를 의미. 기본적으로 origin/master 브랜치를 추적\n",
    "!git push -u origin main"
   ]
  },
  {
   "cell_type": "code",
   "execution_count": 1,
   "id": "cf6f9c2c-0c1e-4ca0-aa2f-32dcf4b711b5",
   "metadata": {},
   "outputs": [
    {
     "name": "stdout",
     "output_type": "stream",
     "text": [
      "hanbii4167\n"
     ]
    }
   ],
   "source": [
    "!git config user.name"
   ]
  },
  {
   "cell_type": "code",
   "execution_count": null,
   "id": "8d507957-4d34-42ec-a747-858181fc9ed2",
   "metadata": {},
   "outputs": [],
   "source": []
  }
 ],
 "metadata": {
  "kernelspec": {
   "display_name": "Python 3 (ipykernel)",
   "language": "python",
   "name": "python3"
  },
  "language_info": {
   "codemirror_mode": {
    "name": "ipython",
    "version": 3
   },
   "file_extension": ".py",
   "mimetype": "text/x-python",
   "name": "python",
   "nbconvert_exporter": "python",
   "pygments_lexer": "ipython3",
   "version": "3.9.6"
  }
 },
 "nbformat": 4,
 "nbformat_minor": 5
}
