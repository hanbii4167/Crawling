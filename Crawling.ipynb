{
 "cells": [
  {
   "cell_type": "markdown",
   "id": "b59809d0-a55b-4976-8794-369cec9b77ba",
   "metadata": {},
   "source": [
    "# 1. Git\n",
    "* 버전관리 시스템의 종류\n",
    "* 버전관리 : 여러 파일을 하나의 버전으로 묶어 관리하는 것 "
   ]
  },
  {
   "cell_type": "markdown",
   "id": "5179022a-53b6-457c-a76a-f9d7423b5e77",
   "metadata": {},
   "source": [
    "### 1-1.버전관리 시스템의 종류\n",
    "1. 클라이언트 - 서버 모델: 하나의 중앙 서버로 여러 클라이언트들이 각자 필요한 것만 가져와서 작업을 하고 다시 중앙 서버로 보내서 통합하는 방식( SVN, CVS )\n",
    "2. 분산 모델: 하나의 중앙 서버가 존재하지만, 여러 클라이언트들은 각자의 컴퓨터에 저장소에 전체사본을 가지고 작업하는 방식(Git)"
   ]
  },
  {
   "cell_type": "markdown",
   "id": "8f27e357-3be6-456e-91e1-7a879829d991",
   "metadata": {},
   "source": [
    "### 1-2. Git의 장점\n",
    "* 동시에 작업하는 사람들과 소스코드를 주고받을 필요가 없음\n",
    "* 같은 파일을 여러명이 동사에 병렬 개발이 가능\n",
    "* 변동 과정을 체계적으로 관리할 수 있고, 언제든지 지난 시점의 버전으로 되돌릴 수 있음\n",
    "* 인터넷이 연결되지 않은 곳에서도 개발을 진행할 수 있고, 중앙 서버의 데이터가 유실되어도 다시 복구할 수 있음 "
   ]
  },
  {
   "cell_type": "markdown",
   "id": "5754bab1-8155-4225-a669-0854373327e0",
   "metadata": {},
   "source": [
    "### 1-2.Git 설치\n",
    "1. 구글에서 'git 설치' 검색\n",
    "2. 왼쪽 메뉴에서, downloads를 클릭 (https://git-scm.com/downloads)\n",
    "3. 모니터 이미지에 있는 다운로드 버튼을 클릭 \n",
    "4. Choose one of the following options for installing Git on macOS: 설명에 따라 설치 (기본 설정)\n",
    "5. 설치가 끝난 후 git --version 명령으로 버전을 확인"
   ]
  },
  {
   "cell_type": "markdown",
   "id": "dd83d8dd-cf62-4bb2-97ef-3728c9fb6e93",
   "metadata": {},
   "source": [
    "# **2. Git 명령어**"
   ]
  },
  {
   "cell_type": "markdown",
   "id": "d43933d8-4cab-44c7-b6fb-9924d3c779e8",
   "metadata": {},
   "source": [
    "*** 2-1. 프로젝트 디렉토리 내 '로컬 저장소'를 생성하기\n",
    "- 원하는 프로젝트 위치로 이동 후 'git init'를 실행"
   ]
  },
  {
   "cell_type": "code",
   "execution_count": 1,
   "id": "c92d3277-42be-4626-80e1-fd4410c25a76",
   "metadata": {},
   "outputs": [
    {
     "name": "stdout",
     "output_type": "stream",
     "text": [
      "Initialized empty Git repository in /Users/gyomgyom/Documents/gyeom/Jupyter/.git/\n"
     ]
    }
   ],
   "source": [
    "!git init"
   ]
  },
  {
   "cell_type": "markdown",
   "id": "d1669a09-aa4e-4092-a22b-6bb598796454",
   "metadata": {},
   "source": [
    "### 2-2. 버전을 관리할 파일을 선택(stage에 올림)"
   ]
  },
  {
   "cell_type": "code",
   "execution_count": null,
   "id": "57914637-976b-4e8e-b9e0-75ab2d35e9e8",
   "metadata": {},
   "outputs": [],
   "source": [
    "!git add Crawling.jpynb \n",
    "# 파일이 너무 많아 폴더 내에 파일 전체를"
   ]
  }
 ],
 "metadata": {
  "kernelspec": {
   "display_name": "Python 3 (ipykernel)",
   "language": "python",
   "name": "python3"
  },
  "language_info": {
   "codemirror_mode": {
    "name": "ipython",
    "version": 3
   },
   "file_extension": ".py",
   "mimetype": "text/x-python",
   "name": "python",
   "nbconvert_exporter": "python",
   "pygments_lexer": "ipython3",
   "version": "3.9.6"
  }
 },
 "nbformat": 4,
 "nbformat_minor": 5
}
